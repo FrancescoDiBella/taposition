{
 "cells": [
  {
   "cell_type": "markdown",
   "id": "259f8f1a",
   "metadata": {},
   "source": [
    "# TAPOSITION\n"
   ]
  },
  {
   "cell_type": "markdown",
   "id": "13536e4d",
   "metadata": {},
   "source": [
    "Francesco Di Bella, Progetto d'esame TAP 2023/2024"
   ]
  },
  {
   "cell_type": "markdown",
   "id": "3b074999",
   "metadata": {},
   "source": [
    "## Overview\n",
    "> L'idea per TAPOSITION nasce da una esperienza di tirocinio, in cui andavano mappati dati da standard per l'e-learning (SCORM e XAPI ndr) ad uno standard europeo (NGSI-LD) che permette di ottenere l'evoluzione temporale di entità. Da qui l'idea che l'**evoluzione temporale** di un utente di un videogioco ( VR/AR o esperienza formativa/lavorativa) potesse essere rappresentata tramite la sua **posizione** nello **spazio** .\n",
    "\n",
    "<a href=\"https://imgflip.com/i/8ymdfb\"><img src=\"https://i.imgflip.com/8ymdfb.jpg\" title=\"made at imgflip.com\"/></a><div><a href=\"https://imgflip.com/memegenerator\">from Imgflip Meme Generator</a></div>"
   ]
  },
  {
   "cell_type": "markdown",
   "id": "7324fc28",
   "metadata": {},
   "source": [
    "## Caso d'uso\n",
    "> Immaginiamo un software di gestione degli utenti di **esperienze immersive** in ambito **LET (Learning, Education, Training)**. \n",
    "Gli insegnanti potrebbe aver bisogno di un tool che permetta loro di visualizzare il percorso effettuato dall'utente e di ottenere (tramite un modello opportunamente trainato) in tempo reale delle prediction sulla prossima posizione\n",
    "\n",
    "<img src=\"./images/useCase.png\" alt=\"Il caso d'uso\" />\n"
   ]
  },
  {
   "cell_type": "markdown",
   "id": "1d8c9cc6",
   "metadata": {},
   "source": [
    "<img src=\"https://miro.medium.com/v2/resize:fit:4800/format:webp/1*hSUKYQ85Am4SgphmV4dqYg.jpeg\">"
   ]
  },
  {
   "cell_type": "markdown",
   "id": "fa472511",
   "metadata": {},
   "source": [
    "## Approccio ad una soluzione\n",
    ">Tramite lo **stack ELK** e altre **tecnologie** a coadiuvare, è possibile **tenere traccia in tempo reale** dello stream di dati che l'**applicativo in uso** dall'utente **invia a Logstash** e che viene poi elaborato dalla pipeline. **Spark si occupa di elaborare le posizioni** e di restituire la **predicted position** \n",
    "\n",
    "<a href=\"https://imgflip.com/i/8ynovd\"><img src=\"https://i.imgflip.com/8ynovd.jpg\" title=\"made at imgflip.com\"/></a><div><a href=\"https://imgflip.com/memegenerator\">from Imgflip Meme Generator</a></div>"
   ]
  },
  {
   "cell_type": "markdown",
   "id": "13fb3c34",
   "metadata": {},
   "source": [
    "## Implementazioni future e idee\n",
    "> - Includere altre mappe nel geoserver\n",
    "> - Implementare le visualizzazioni Kibana in una pagina web esterna\n",
    "> - Tracking di altre proprietà di utente e oggetti nella scena 3D\n",
    "> - Integrare un chatbot o AI per comprendere e interrogare i dati da interfaccia grafica"
   ]
  },
  {
   "cell_type": "markdown",
   "id": "ffb3b2d1",
   "metadata": {},
   "source": [
    "## Tecnologie usate\n",
    "\n",
    "<img src=\"./images/tecs.png\"/>"
   ]
  },
  {
   "cell_type": "markdown",
   "id": "92924e75",
   "metadata": {},
   "source": [
    "<a href=\"https://imgflip.com/i/8ynodp\"><img src=\"https://i.imgflip.com/8ynodp.jpg\" title=\"made at imgflip.com\"/></a><div><a href=\"https://imgflip.com/memegenerator\">from Imgflip Meme Generator</a></div>"
   ]
  },
  {
   "cell_type": "markdown",
   "id": "3a8cb883",
   "metadata": {},
   "source": [
    "<a href=\"https://imgflip.com/i/8yo0se\"><img src=\"https://i.imgflip.com/8yo0se.jpg\" title=\"made at imgflip.com\"/></a><div><a href=\"https://imgflip.com/memegenerator\">from Imgflip Meme Generator</a></div>"
   ]
  },
  {
   "cell_type": "markdown",
   "id": "0124c515",
   "metadata": {},
   "source": [
    "## Data Producer: Applicazione 3D\n",
    "> In questa pipeline il producer dei dati sarà un **qualsiasi applicativo 3D** (o non) capace di fare richieste HTTP a Logstash. Le tecnologie, **gli engine di gioco** (Unity, Unreal Engine, Godot ecc.) **non hanno nessun impatto sulla compatibilità** con gli altri componenti dell'architettura. Per il progetto è stato creato un applicativo di demo usando il framework JavaScript **Playcanvas**, infatti è possibile eseguire la scena 3D direttamente nel browser."
   ]
  },
  {
   "cell_type": "markdown",
   "id": "1d681514",
   "metadata": {},
   "source": [
    "<image src=\"./images/3dgame.gif\" style=\"width: 50%\" />"
   ]
  },
  {
   "cell_type": "markdown",
   "id": "84333577",
   "metadata": {},
   "source": [
    "<a href=\"https://imgflip.com/i/8yq4h7\"><img src=\"https://i.imgflip.com/8yq4h7.jpg\" title=\"made at imgflip.com\"/></a><div><a href=\"https://imgflip.com/memegenerator\">from Imgflip Meme Generator</a></div>"
   ]
  },
  {
   "cell_type": "markdown",
   "id": "957db6cb",
   "metadata": {},
   "source": [
    "## Il data model per interagire con Logstash\n",
    "\n",
    "<image src=\"./images/logastashDatamodel.png\" />"
   ]
  },
  {
   "cell_type": "markdown",
   "id": "8eee925c",
   "metadata": {},
   "source": [
    "Questa struttura del body permette di **ricostruire l'informazione** relativa ad una **particolare proprietà** di **qualsiasi oggetto in scena**, in questo caso si è ristretto il campo al giocatore."
   ]
  },
  {
   "cell_type": "markdown",
   "id": "6e88e912",
   "metadata": {},
   "source": [
    "<a href=\"https://imgflip.com/i/8yxyi6\"><img src=\"https://i.imgflip.com/8yxyi6.jpg\" title=\"made at imgflip.com\"/></a><div><a href=\"https://imgflip.com/memegenerator\">from Imgflip Meme Generator</a></div>"
   ]
  },
  {
   "cell_type": "markdown",
   "id": "724844c7",
   "metadata": {},
   "source": [
    "Di seguito alcuni frammenti del file **.conf** di Logstash"
   ]
  },
  {
   "cell_type": "code",
   "execution_count": null,
   "id": "44799ca1",
   "metadata": {
    "vscode": {
     "languageId": "plaintext"
    }
   },
   "outputs": [],
   "source": [
    "input {\n",
    "  http {\n",
    "    id => \"taposition_logstash\"\n",
    "    port => 9190\n",
    "    response_headers => {\n",
    "          \"Access-Control-Allow-Origin\" => \"*\"\n",
    "          \"Content-Type\" => \"text/plain\"\n",
    "          \"Access-Control-Allow-Headers\" => \"Origin, X-Requested-With, Content-Type, Accept\"\n",
    "    }\n",
    "  }\n",
    "}"
   ]
  },
  {
   "cell_type": "markdown",
   "id": "30705856",
   "metadata": {},
   "source": [
    "Tramite il plug-in **\"input\"** è possibile permettere a Logstash di ascoltare sulla porta designata e captare i messaggi in ingresso\n",
    "\n",
    "L'oggetto **\"response_headers\"** è necessario per questo progetto in quanto la scena 3D sviluppata in Playcanvas esige degli header di risposta specifici (CORS related) "
   ]
  },
  {
   "cell_type": "markdown",
   "id": "9e7fb380",
   "metadata": {},
   "source": [
    "<img src=\"./images/tvw3y3jyfe351.webp\" title=\"made at imgflip.com\"/>"
   ]
  },
  {
   "cell_type": "code",
   "execution_count": null,
   "id": "a9850c14",
   "metadata": {
    "vscode": {
     "languageId": "plaintext"
    }
   },
   "outputs": [],
   "source": [
    "ruby {\n",
    "    code => '\n",
    "        x = event.get(\"[location][lon]\").to_f  # Convert x to a float\n",
    "        z = event.get(\"[location][lat]\").to_f   # Convert z to a float\n",
    "        # Map x from (-10, 10) to (-30, 30)\n",
    "        mapped_longitude = -x * 3\n",
    "        # Map z from (-10, 10) to (30, -30)\n",
    "        mapped_latitude = z * 3\n",
    "        event.set(\"[location][lon]\", mapped_longitude)\n",
    "        event.set(\"[location][lat]\", mapped_latitude)\n",
    "\n",
    "        prev_x = event.get(\"[source][lon]\").to_f  # Convert x to a float\n",
    "        prev_z = event.get(\"[source][lat]\").to_f   # Convert z to a float\n",
    "        # Map x from (-10, 10) to (-30, 30)\n",
    "        mapped_prev_longitude = -prev_x * 3\n",
    "        # Map z from (-10, 10) to (30, -30)\n",
    "        mapped_prev_latitude = prev_z * 3\n",
    "        event.set(\"[source][lon]\", mapped_prev_longitude.to_f)\n",
    "        event.set(\"[source][lat]\", mapped_prev_latitude.to_f)\n",
    "    '\n",
    "}"
   ]
  },
  {
   "cell_type": "markdown",
   "id": "2498bcfc",
   "metadata": {},
   "source": [
    "Tramite il plug-in **\"ruby\"** è possibile **eseguire del codice** (in Ruby), in questo caso sono stati eseguiti **calcoli per mappare** le posizioni da uno **spazio Euclideo ad un piano Geodetico** (detto datum), dove si distinguono longitudine e latitudine (ed in aggiunta anche altitudine). \n",
    "\n",
    "La conversione è lineare in quanto il terreno della scena 3D è 3 volte più piccolo dello spazio che occuperà la mappa proiettata sulla Terra (in termini di estensione e metri quadri)."
   ]
  },
  {
   "cell_type": "markdown",
   "id": "c01f31b1",
   "metadata": {},
   "source": [
    "Logstash invia i dati a Kafka (creando un topic chiamato \"positions\")"
   ]
  },
  {
   "cell_type": "markdown",
   "id": "f162cb32",
   "metadata": {},
   "source": [
    "## Spark"
   ]
  },
  {
   "cell_type": "markdown",
   "id": "a1504f6e",
   "metadata": {},
   "source": [
    "Spark legge lo stream di dati dal topic \"positions\" di Kafka. Tramite la source (Logstash rinomina alcuni campi che abbiamo visto in precedenza) e tramite due modelli (uno per latitude e uno per longitude) permette di restiture la predicted_position tramite LinearRegression."
   ]
  },
  {
   "cell_type": "code",
   "execution_count": null,
   "id": "158c63d5",
   "metadata": {
    "slideshow": {
     "slide_type": "slide"
    },
    "vscode": {
     "languageId": "plaintext"
    }
   },
   "outputs": [],
   "source": [
    "def model_trainer(file_path):\n",
    "    # Define schema for the data\n",
    "    schema = StructType([\n",
    "        StructField(\"lat\", DoubleType(), True),\n",
    "        StructField(\"lon\", DoubleType(), True),\n",
    "        StructField(\"next_lat\", DoubleType(), True),\n",
    "        StructField(\"next_lon\", DoubleType(), True)\n",
    "    ])\n",
    "\n",
    "    # Load data\n",
    "    data = spark.read.format(\"csv\").options(header='true', inferschema='true', delimiter=\",\").load(file_path)\n",
    "\n",
    "    # Assemble features\n",
    "    assembler = VectorAssembler(inputCols=[\"lat\", \"lon\"], outputCol=\"features\")\n",
    "    data = assembler.transform(data)\n",
    "\n",
    "    # Split the data into training and testing sets\n",
    "    train_data, test_data = data.randomSplit([0.8, 0.2], seed=12345)\n",
    "\n",
    "    # Train model for latitude prediction\n",
    "    lr_lat = LinearRegression(featuresCol=\"features\", labelCol=\"next_lat\")\n",
    "    pipeline_lat = Pipeline(stages=[lr_lat])\n",
    "    model_lat = pipeline_lat.fit(train_data)\n",
    "\n",
    "    # Train model for longitude prediction\n",
    "    lr_lon = LinearRegression(featuresCol=\"features\", labelCol=\"next_lon\")\n",
    "    pipeline_lon = Pipeline(stages=[lr_lon])\n",
    "    model_lon = pipeline_lon.fit(train_data)\n",
    "\n",
    "    # Return the trained models and test data\n",
    "    return model_lat, model_lon, test_data"
   ]
  },
  {
   "cell_type": "markdown",
   "id": "b8b40369",
   "metadata": {},
   "source": [
    "Questa è la funzione principale che permette di trainare i modelli"
   ]
  },
  {
   "cell_type": "markdown",
   "id": "1b48d53a",
   "metadata": {},
   "source": [
    "## Kibana e le visualizzazioni\n",
    "Kibana permette di creare delle dashboard complete, nel mio caso ho optato per la visualizzazione della mappa (custom tramite la connessione ad un GeoServer) e alcuni box contenenti informazioni generiche e filtri per gli utenti."
   ]
  },
  {
   "cell_type": "markdown",
   "id": "7594eac6",
   "metadata": {},
   "source": [
    "<img src=\"./images/kibana1.png\"/>"
   ]
  },
  {
   "cell_type": "markdown",
   "id": "55d269e8-792c-4579-b2a0-de8529d16d80",
   "metadata": {},
   "source": [
    "<img src=\"./images/kibana2.png\"/>"
   ]
  },
  {
   "cell_type": "code",
   "execution_count": null,
   "id": "d1b3bb30-ad91-42ad-80d1-b89069b3df10",
   "metadata": {},
   "outputs": [],
   "source": []
  }
 ],
 "metadata": {
  "kernelspec": {
   "display_name": "Python 3 (ipykernel)",
   "language": "python",
   "name": "python3"
  },
  "language_info": {
   "codemirror_mode": {
    "name": "ipython",
    "version": 3
   },
   "file_extension": ".py",
   "mimetype": "text/x-python",
   "name": "python",
   "nbconvert_exporter": "python",
   "pygments_lexer": "ipython3",
   "version": "3.12.4"
  }
 },
 "nbformat": 4,
 "nbformat_minor": 5
}
