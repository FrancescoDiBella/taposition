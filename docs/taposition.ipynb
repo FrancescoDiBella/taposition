{
 "cells": [
  {
   "cell_type": "markdown",
   "id": "259f8f1a",
   "metadata": {},
   "source": [
    "# TAPOSITION\n"
   ]
  },
  {
   "cell_type": "markdown",
   "id": "13536e4d",
   "metadata": {},
   "source": [
    "Francesco Di Bella, Progetto d'esame TAP 2023/2024"
   ]
  },
  {
   "cell_type": "markdown",
   "id": "3b074999",
   "metadata": {},
   "source": [
    "## Overview\n",
    "TAPOSITION nasce da una esperienza di tirocinio, in cui andavano mappati dati da degli standard per l'e-learning (SCORM e XAPI ndr) ad uno standard europeo (NGSI-LD) che permette di ottenere l'evoluzione temporale di entità. Da qui l'idea che l'**evoluzione temporale** di un utente di un videogioco ( VR/AR o esperienza formativa/lavorativa) potesse cozzare con la sua **posizione** nello **spazio** .\n",
    "\n",
    "<a href=\"https://imgflip.com/i/8ymdfb\"><img src=\"https://i.imgflip.com/8ymdfb.jpg\" title=\"made at imgflip.com\"/></a><div><a href=\"https://imgflip.com/memegenerator\">from Imgflip Meme Generator</a></div>"
   ]
  },
  {
   "cell_type": "markdown",
   "id": "7324fc28",
   "metadata": {},
   "source": [
    "## Caso d'uso\n",
    "Immaginiamo un software di gestione degli utenti di **esperienze immersive** in ambito **LET (Learning, Education, Training)**. \n",
    "Gli insegnanti potrebbe aver bisogno di un tool che permetta loro di visualizzare il percorso effettuato dall'utente e di ottenere (tramite un modello opportunamente trainato) in tempo reale delle prediction sulla prossima posizione\n",
    "\n",
    "<img src=\"./images/useCase.png\" alt=\"Il caso d'uso\" />\n"
   ]
  },
  {
   "cell_type": "markdown",
   "id": "1d8c9cc6",
   "metadata": {},
   "source": [
    "<img src=\"https://miro.medium.com/v2/resize:fit:4800/format:webp/1*hSUKYQ85Am4SgphmV4dqYg.jpeg\">"
   ]
  },
  {
   "cell_type": "markdown",
   "id": "fa472511",
   "metadata": {},
   "source": [
    "## Approccio ad una soluzione\n",
    "Tramite lo **stack ELK** e altre **tecnologie** a coadiuvare, è possibile **tenere traccia in tempo reale** dello stream di dati che l'**applicativo in uso** dall'utente **invia a Logstash** e che viene poi elaborato dalla pipeline. **Spark si occupa di elaborare le posizioni** e di restituire la **predicted position** \n",
    "\n",
    "<a href=\"https://imgflip.com/i/8ynodp\"><img src=\"https://i.imgflip.com/8ynodp.jpg\" title=\"made at imgflip.com\"/></a><div><a href=\"https://imgflip.com/memegenerator\">from Imgflip Meme Generator</a></div> <a href=\"https://imgflip.com/i/8ynovd\"><img src=\"https://i.imgflip.com/8ynovd.jpg\" title=\"made at imgflip.com\"/></a><div><a href=\"https://imgflip.com/memegenerator\">from Imgflip Meme Generator</a></div>"
   ]
  },
  {
   "cell_type": "markdown",
   "id": "13fb3c34",
   "metadata": {},
   "source": [
    "## Implementazioni future e idee\n",
    "### Includere altre mappe nel geoserver\n",
    "### Implementare le visualizzazioni Kibana in una pagina web esterna\n",
    "### Integrare un chatbot o AI per comprendere e interrogare i dati da interfaccia grafica"
   ]
  },
  {
   "cell_type": "markdown",
   "id": "ffb3b2d1",
   "metadata": {},
   "source": [
    "## Tecnologie usate\n"
   ]
  }
 ],
 "metadata": {
  "kernelspec": {
   "display_name": "Python 3 (ipykernel)",
   "language": "python",
   "name": "python3"
  },
  "language_info": {
   "codemirror_mode": {
    "name": "ipython",
    "version": 3
   },
   "file_extension": ".py",
   "mimetype": "text/x-python",
   "name": "python",
   "nbconvert_exporter": "python",
   "pygments_lexer": "ipython3",
   "version": "3.12.4"
  }
 },
 "nbformat": 4,
 "nbformat_minor": 5
}
