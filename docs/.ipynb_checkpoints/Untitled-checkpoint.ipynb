{
 "cells": [
  {
   "cell_type": "markdown",
   "id": "259f8f1a",
   "metadata": {},
   "source": [
    "# TAPOSITION\n"
   ]
  },
  {
   "cell_type": "markdown",
   "id": "13536e4d",
   "metadata": {},
   "source": [
    "Francesco Di Bella, Progetto d'esame TAP 2023/2024"
   ]
  },
  {
   "cell_type": "markdown",
   "id": "3b074999",
   "metadata": {},
   "source": [
    "## Overview\n",
    "TAPOSITION nasce da una esperienza di tirocinio, in cui andavano mappati dati da degli standard per l'e-learning (SCORM e XAPI ndr) ad uno standard europeo (NGSI-LD) che permette di ottenere l'evoluzione temporale di entità. Da qui l'idea che l'**evoluzione temporale** di un utente di un videogioco ( VR/AR o esperienza formativa/lavorativa) potesse cozzare con la sua **posizione** nello **spazio** .\n",
    "\n",
    "<a href=\"https://imgflip.com/i/8ymdfb\"><img src=\"https://i.imgflip.com/8ymdfb.jpg\" title=\"made at imgflip.com\"/></a><div><a href=\"https://imgflip.com/memegenerator\">from Imgflip Meme Generator</a></div>"
   ]
  },
  {
   "cell_type": "markdown",
   "id": "7324fc28",
   "metadata": {},
   "source": [
    "## Caso d'uso\n",
    "Immaginiamo un software di gestione degli utenti di **esperienze immersive** in ambito **LET (Learning, Education, Training)**. \n",
    "Gli insegnanti potrebbe aver bisogno di un tool che permetta loro di visualizzare il percorso effettuato dall'utente e di ottenere (tramite un modello opportunamente trainato) in tempo reale delle prediction sulla prossima posizione\n",
    "<img src=\"./images/useCase.png\" alt=\"Alternative text\" />\n"
   ]
  }
 ],
 "metadata": {
  "kernelspec": {
   "display_name": "Python 3 (ipykernel)",
   "language": "python",
   "name": "python3"
  },
  "language_info": {
   "codemirror_mode": {
    "name": "ipython",
    "version": 3
   },
   "file_extension": ".py",
   "mimetype": "text/x-python",
   "name": "python",
   "nbconvert_exporter": "python",
   "pygments_lexer": "ipython3",
   "version": "3.12.4"
  }
 },
 "nbformat": 4,
 "nbformat_minor": 5
}
